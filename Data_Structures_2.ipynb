{
  "nbformat": 4,
  "nbformat_minor": 0,
  "metadata": {
    "colab": {
      "provenance": []
    },
    "kernelspec": {
      "name": "python3",
      "display_name": "Python 3"
    },
    "language_info": {
      "name": "python"
    }
  },
  "cells": [
    {
      "cell_type": "code",
      "execution_count": null,
      "metadata": {
        "id": "nu1UxNCW-967"
      },
      "outputs": [],
      "source": [
        "#Theory"
      ]
    },
    {
      "cell_type": "markdown",
      "source": [
        "Ques-1 What are data structures, and why are they important?\n",
        "Answer- Data structure way of organizing and storing data so that it can be accessed and manipulated effecieentily. Data structues are specialized formats for organizing, spring and accessing collection of data. They provide efficient ways to manage information based on its characteristics and intended use.\n",
        "They are important because-\n",
        "Choosing the right data structure significantly impacts the efficiency and perfomance of our program.\n",
        "Well chosen data structure can\n",
        "Simplify data manipulation coding, removing, modifying elements.\n",
        "\n",
        "Ques-2 Explain the difference between mutable and immutable data types with examples.\n",
        "Answer- The main difference between mutable and immutable data types in Python is that mutable data types can be changed after creation, while immutable data types cannot:\n",
        "Mutable data types\n",
        "These data types can be modified after they are created. Examples include lists, dictionaries, and sets.\n",
        "Immutable data types\n",
        "These data types cannot be altered once they are set. Examples include strings, tuples, integers, and floats.\n",
        "The differences between mutable and immutable data types is important for writing efficient and bug-free code. Here are some ways that mutable and immutable data types differ:\n",
        "Data consistency: Immutable data types ensure data consistency.\n",
        "Flexibility: Mutable data types allow for flexibility and modifications to data structures.\n",
        "Memory efficiency: Tuples are more memory-efficient than lists because they are immutable.\n",
        "Predictability: Immutable objects are useful in sensitive tasks where predictability is important.\n",
        "Default function arguments: Using immutable types as default arguments for functions can prevent the default argument from changing every time the function is run.\n",
        "\n",
        "Ques-3 What are the main differences between lists and tuples in python?\n",
        "Answer- The main differences between lists and tuples in Python are:\n",
        "*Mutability: Lists are mutable, meaning they can be modified, while tuples are immutable and cannot be changed.\n",
        "*Memory efficiency: Tuples are more memory efficient than lists.\n",
        "*Time efficiency: Tuples are slightly faster than lists, especially when looking up values.\n",
        "*Built-in methods: Lists have more built-in methods than tuples.\n",
        "*Operations: List operations are more error-prone than tuple operations.\n",
        "*Iteration: Tuples can be iterated over directly, while lists require a for loop.\n",
        "*Nesting: Tuples can be nested inside other tuples, but lists cannot contain other lists.\n",
        "*Passing as parameters: Tuples can be passed as parameters to functions, but lists\n",
        "\n",
        "Ques-4 Describe how dictionaries store data.\n",
        "Answer- Dictionaries in python store data as key-value pairs. each key is unique, and it is associated with a specific value.\n",
        "\n",
        "Ques-5 Why might you use a set instead of a list in python?\n",
        "Answer- In Python, we might use a set instead of a list for several reasons:\n",
        "*Uniqueness of Elements:\n",
        "Sets automatically remove duplicate elements. If you need to store only unique values, a set is a better choice than a list.\n",
        "*Faster Membership Testing:\n",
        "Sets are optimized for fast membership checks using the in keyword. Checking if an item exists in a set is faster than in a list, especially for large collections.\n",
        "*Mathematical Set Operations:\n",
        "Sets support mathematical operations like union, intersection, difference, and symmetric difference, which are not directly available with lists. This makes them useful for certain algorithms or problem-solving tasks.\n",
        "*Unordered and Unindexed:\n",
        "If the order of elements is not important, a set can be used instead of a list, saving memory when dealing with unique items.\n",
        "\n",
        "Ques-6 What is a string in python, and how is it different from a list?\n",
        "Answer- In Python, a string is a sequence of characters used to represent text. It is enclosed in single quotes ('), double quotes (\") or triple quotes (''' or \"\"\"). A list, on the other hand, is a collection that can hold multiple items (elements) of different or same data types.\n",
        "\n",
        "In Python, a list and a string are both sequence data types, but they have some key differences:\n",
        "\n",
        "1. Mutable vs. Immutable: A list is mutable, meaning you can modify its elements after it is created. On the other hand, a string is immutable, which means you cannot change its characters once it is created. Instead, you need to create a new string with the desired modifications.\n",
        "\n",
        "2. Collection of Elements: A list is an ordered collection of items, where each item can be of any data type. It allows duplicates, and the elements can be accessed and modified using their indices. On the contrary, a string is an ordered collection of characters. It represents a sequence of Unicode characters and can be accessed using indices as well, but its individual characters cannot be modified due to immutability.\n",
        "\n",
        "3. Representation: In Python, a list is enclosed in square brackets ([]), and its elements are separated by commas. For example: [1, 2, 3, 4]. In contrast, a string is enclosed in either single quotes ('') or double quotes (\"\"). For example: 'Hello' or \"World\".\n",
        "\n",
        "4. Operations: Lists and strings support different operations. Lists can be modified by adding or removing elements, concatenating with other lists, slicing, and more. Strings have specific methods for string manipulation, such as concatenation (+), slicing, searching for substrings, and various formatting operations\n",
        "\n",
        "Ques-7 How do tuples ensure data integrity in python?\n",
        "Answer- In Python, tuples ensure data integrity primarily through immutability. Here's how they contribute to maintaining data integrity:\n",
        "1. Immutability\n",
        "Once a tuple is created, its elements cannot be modified (unlike lists).\n",
        "Benefit for Data Integrity: This prevents accidental changes to the data, ensuring that the original values remain intact throughout the program.\n",
        "Example:\n",
        "my_tuple = (1, 2, 3)\n",
        "my_tuple[1] = 4  # This will raise a TypeError\n",
        "2. Hashability\n",
        "Tuples are hashable if they contain only hashable elements, allowing them to be used as keys in dictionaries or elements in sets.\n",
        "Benefit for Data Integrity: Hashability ensures unique keys in dictionaries, preventing accidental overwrites.\n",
        "Example:\n",
        "my_dict = {(1, 2): \"Point A\"}  # Tuple used as a key\n",
        "3. Fixed Structure\n",
        "A tuple's fixed size prevents adding or removing elements, ensuring consistent data structure during its lifecycle.\n",
        "Summary of Benefits for Data Integrity\n",
        "Protects against unintended changes.\n",
        "Promotes stability by keeping a consistent structure.\n",
        "Enables safe use in data structures that rely on immutability.\n",
        "Tuples are thus an excellent choice when data needs to be stored and accessed without being modified, ensuring reliability and integrity in critical parts of a program.\n",
        "\n",
        "Ques-8 What is a hash table, and how does it relate to dictionaries in python?\n",
        "Answer- A hash table is a data structure that stores key-value pairs, where each key's hash value determines the correct bucket for that data. Hash tables are efficient because the average number of instructions needed to look up an element is independent of the number of elements in the table.\n",
        "\n",
        "Python dictionaries are the standard implementation of hash tables. The keys in a Python dictionary are hashable, meaning they're generated by a hash function that produces a unique result for each unique value.\n",
        "\n",
        "Ques-9 Can lists contain different data types in python?\n",
        "Answer- Yes, lists in Python can contain elements of different data types. Python lists are heterogeneous, meaning they can store a mix of integers, strings, floats, objects, and even other lists or custom-defined types.\n",
        "\n",
        "Ques-10 Explain why string are immutable in python?\n",
        "Answer- Strings in Python are immutable, their content cannot be modified once they are created. This design choice offers several advantages in terms of performance, safety, and efficiency. Here are the main reasons why strings are immutable in Python:\n",
        "1. Efficiency and Performance\n",
        "Memory Optimization: Immutability allows Python to optimize memory usage. Once a string is created, Python can store multiple references to the same string in memory rather than duplicating the data.\n",
        "String Interning: Python may use a technique called string interning, where identical string values are stored only once in memory. This reduces memory overhead and speeds up comparisons between strings.\n",
        "Faster Hashing: Since strings are immutable, their hash values are guaranteed to remain constant, allowing them to be used efficiently as keys in hash-based data structures (like dictionaries and sets).\n",
        "2. Thread Safety\n",
        "Immutability ensures that strings are inherently thread-safe. Since no other part of the program can change the content of a string once it is created, there is no risk of unintended modification or race conditions in multi-threaded programs.\n",
        "3. Security and Integrity\n",
        "When working with strings, especially in web development or security-sensitive applications, immutability ensures that the content of a string cannot be accidentally or maliciously changed after it is created. This makes strings more secure and reliable.\n",
        "4. Design Philosophy\n",
        "Functional Programming: Immutability aligns with the principles of functional programming, where data is not modified in place but rather transformed. This leads to more predictable and understandable code.\n",
        "Predictability: If strings were mutable, tracking changes to a string could become error-prone. Immutable strings provide consistency by preventing changes to the data, making it easier to understand the flow of a program.\n",
        "5. Avoiding Errors\n",
        "Since strings are immutable, operations like concatenation or modification create new string objects instead of changing the existing one. This prevents accidental side-effects when working with strings.\n",
        "Example:\n",
        "s = \"hello\"\n",
        "s = s + \" world\"  # A new string is created, and s now references it\n",
        "print(s)  # Output: \"hello world\"\n",
        "6. Optimized String Operations\n",
        "Many string operations (like concatenation) can be optimized by reusing existing string objects rather than constantly modifying them. This is possible because the original string data remains unchanged.\n",
        "\n",
        "Ques-11 What advantages do dictionaries offer over lists for certain tasks?\n",
        "Answer- A list can store any data type. In contrast, keys in the dictionary can be of any immutable data type, and values can be of any data type. Lists perform faster for ordered operations like sorting, while dictionaries perform faster for lookup operations.\n",
        "\n",
        "Ques-12 Describe a scenario where using a tuple would be perferable over a list?\n",
        "Answer-  Use a tuple if you need an immutable collection where the elements won't change after creation. Tuples are generally faster and more memory-efficient than lists, making them better for fixed collections, especially as dictionary keys or when iteration speed is crucial.\n",
        "\n",
        "Ques-13 How do sets handle duplicate values in python?\n",
        "Answer- In Python, sets automatically remove duplicate values. A set is an unordered collection of unique elements, meaning that it cannot contain duplicate values. When you try to add a duplicate element to a set, the set simply ignores it.\n",
        "How Sets Handle Duplicates:\n",
        "1. Automatic Removal: If you try to add an element that already exists in the set, the set will not add it again.\n",
        "2. Uniqueness: Sets only store unique elements, and they will automatically eliminate any repeated entries.\n",
        "\n",
        "Ques-14 How does the \"in\" keyword work differently for lists and dictionaries?\n",
        "Answer- The key of the dictionary is a unique value as well as the set, and the execution time is about the same as for sets. On the other hand, dictionary values can be duplicated like a list. The execution time of in for values() is about the same as for lists. Key-value pairs are unique.\n",
        "\n",
        "Ques-15 Can you modify the elements of a tuples? Explain why or why not.\n",
        "Answer- No, you cannot modify the elements of a tuple after it is created. This is because tuples are immutable in Python.\n",
        "Why Tuples Are Immutable:\n",
        "1. Immutability: Once a tuple is created, its elements cannot be changed, added, or removed. This characteristic is what makes tuples immutable.\n",
        "For example, trying to assign a new value to an element in a tuple results in a TypeError:\n",
        "my_tuple = (1, 2, 3)\n",
        "my_tuple[0] = 5  # This will raise a TypeError: 'tuple' object does not support item assignment\n",
        "2. Reason for Immutability:\n",
        "Memory Efficiency: Since tuples are immutable, they are stored in memory more efficiently than lists. Python can make certain optimizations knowing that the contents of a tuple will not change, which can lead to performance benefits.\n",
        "Hashability: Immutability also makes tuples hashable, which means they can be used as keys in dictionaries or elements in sets. A mutable object like a list cannot be used as a dictionary key because its value could change, which would affect the hash and lead to inconsistencies.\n",
        "3. Use Cases for Immutability:\n",
        "Safety: Immutability ensures that the data in a tuple cannot be changed accidentally, which is important in situations where data integrity is critical.\n",
        "Performance: Since the content cannot change, tuples are often used for fixed collections of data (like coordinates, RGB color values, etc.) where there is no need for modification.\n",
        "What You Can Do with Tuples:\n",
        "While you can't modify the elements of a tuple, you can perform operations such as:\n",
        "Concatenating tuples (combining multiple tuples into one):\n",
        "tuple1 = (1, 2, 3)\n",
        "tuple2 = (4, 5, 6)\n",
        "combined = tuple1 + tuple2  # Output: (1, 2, 3, 4, 5, 6)\n",
        "Reassigning a new tuple to a variable:\n",
        "my_tuple = (1, 2, 3)\n",
        "my_tuple = (4, 5, 6)  # The entire tuple is reassigned, not individual elements\n",
        "Iterating through a tuple to access its elements:\n",
        "my_tuple = (1, 2, 3)\n",
        "for item in my_tuple:\n",
        "    print(item)  # Output: 1, 2, 3\n",
        "Conclusion:\n",
        "Tuples are immutable in Python, meaning their elements cannot be modified after they are created. This immutability provides advantages in terms of memory efficiency, safety, and allows tuples to be used as dictionary keys or set elements. However, if you need to modify the elements, you would have to use a list instead of a tuple.\n",
        "\n",
        "Ques-16 What is a nested dictionary, and given an example of its use case?\n",
        "Answer- A nested dictionary is a dictionary that contains another dictionary or dictionaries as its values. It's a useful way to represent data with multiple layers of organization. Some examples of use cases include:\n",
        "Employee records: Organize employees by department, with each employee's details in a nested dictionary.\n",
        "Inventory systems: Track product categories, subcategories, and individual product details.\n",
        "JSON data: Nested dictionaries naturally map to the structure of JSON data, making them essential for working with APIs and web services.\n",
        "Here's an example of a nested dictionary in Python:\n",
        "nested_dict = { 'dictA': {'key_1': 'value_1'}, 'dictB': {'key_2': 'value_2'}}\n",
        "In this example, nested_dict is a nested dictionary with the dictionaries dictA and dictB. Each dictionary has its own key and value.\n",
        "To create a nested dictionary, place comma-separated dictionaries enclosed within braces.\n",
        "\n",
        "Ques-17 Describe the time complexity of accessing elements in a dictionaries?\n",
        "Answer- In Python, dictionaries are implemented using hash tables, which provide efficient access to elements. The time complexity of accessing elements in a dictionary depends on the operation being performed, but for the most common operations (like accessing by key), the time complexity is constant time on average, or O(1).\n",
        "\n",
        "Ques-18 In what situations are lists preferred over dictionaries?\n",
        "Answer- If you need an ordered collection, like a sequence of user actions, lists are your go-to. On the other hand, when you need quick look-ups, like mapping usernames to user data, dictionaries are invaluable.\n",
        "\n",
        "Ques-19 Why are dictionaries considered unordered, and how does that affect data retrieval?\n",
        "Answee-Dictionaries in Python are considered unordered because the elements (key-value pairs) are not stored in any particular order. This was true in older versions of Python, where dictionaries did not maintain the insertion order of elements. However, starting from Python 3.7, dictionaries maintain the insertion order as an implementation detail, which means that the order in which items are added to the dictionary is preserved when iterating over it. This means that while dictionaries are technically still unordered in terms of their conceptual design, they now maintain the order of insertion in practice.\n",
        "\n",
        "Ques-20 Explain the difference between a list and a dictionary in terms of data reterival?\n",
        "Answer- The difference between a list and a dictionary in terms of data retrieval lies primarily in how elements are stored and accessed, as well as the methods used for retrieval.\n",
        "1. Data Structure and Storage:\n",
        "List:\n",
        "A list is an ordered collection of elements, where each element has a position (index) in the list.\n",
        "Elements in a list are stored sequentially, and each element can be accessed using its index (a number that represents its position in the list).\n",
        "The index starts at 0, and it is used to retrieve elements.\n",
        "Dictionary:\n",
        "A dictionary is an unordered collection of key-value pairs.\n",
        "Instead of relying on indices, elements in a dictionary are accessed via keys, which are unique identifiers for each value.\n",
        "The keys in a dictionary are hashed, allowing for efficient lookups.\n",
        "2. Data Retrieval:\n",
        "List:\n",
        "Retrieval of elements in a list is done by accessing the element at a specific index.\n",
        "Time complexity for accessing an element by index is O(1) (constant time), as Python directly maps the index to the element in memory.\n",
        "Example:\n",
        "my_list = [10, 20, 30, 40, 50]\n",
        "print(my_list[2])  # Output: 30\n",
        "Here, the element at index 2 is retrieved directly.\n",
        "Dictionary:\n",
        "Retrieval in a dictionary is done using the key, not an index.\n",
        "Time complexity for retrieving a value using a key is also O(1) (constant time) on average, because dictionaries use hash tables that allow for direct access to the value associated with the key.\n",
        "Example:\n",
        "my_dict = {'a': 10, 'b': 20, 'c': 30}\n",
        "print(my_dict['b'])  # Output: 20\n",
        "Here, the value associated with the key 'b' is retrieved directly.\n",
        "3. Order and Indexing:\n",
        "List:\n",
        "Lists are ordered: The order of elements is maintained, and you can access elements in the exact order in which they were added.\n",
        "You can use positive and negative indices to retrieve elements from the list.\n",
        "Example:\n",
        "my_list = [10, 20, 30]\n",
        "print(my_list[-1])  # Output: 30 (last element)\n",
        "Dictionary:\n",
        "Dictionaries are unordered (conceptually, before Python 3.7, and insertion order is preserved starting from Python 3.7).\n",
        "You cannot retrieve elements by position. Instead, you retrieve them by their keys.\n",
        "Example:\n",
        "my_dict = {'a': 10, 'b': 20, 'c': 30}\n",
        "print(my_dict['a'])  # Output: 10\n",
        "4. Duplicate Values:\n",
        "List:\n",
        "A list can contain duplicate values, and each value is accessed based on its position (index).\n",
        "Example:\n",
        "my_list = [10, 20, 30, 20]\n",
        "print(my_list[3])  # Output: 20 (duplicates are allowed)\n",
        "Dictionary:\n",
        "A dictionary cannot have duplicate keys, but duplicate values are allowed.\n",
        "If you attempt to add a key that already exists in the dictionary, the value associated with that key is updated.\n",
        "Example:\n",
        "my_dict = {'a': 10, 'b': 20, 'c': 20}\n",
        "print(my_dict['c'])  # Output: 20 (duplicates in values are allowed)\n"
      ],
      "metadata": {
        "id": "mDII0ZoMDdSb"
      }
    },
    {
      "cell_type": "code",
      "source": [
        "#Practical Question\n",
        "#Ques-1 Write a code to create a string with your name and print it .\n",
        "my_name=\"Saumya\"\n",
        "print(my_name)\n"
      ],
      "metadata": {
        "id": "CvmcMxOHBnEN",
        "colab": {
          "base_uri": "https://localhost:8080/"
        },
        "outputId": "28eefa12-3623-4680-d17e-61a0fe867db2"
      },
      "execution_count": null,
      "outputs": [
        {
          "output_type": "stream",
          "name": "stdout",
          "text": [
            "Saumya\n"
          ]
        }
      ]
    },
    {
      "cell_type": "code",
      "source": [
        "#Ques-2 Write a code to find the lenght of the string \"Hello World.\"\n",
        "my_string=\"Hello World\"\n",
        "print(len(my_string))\n"
      ],
      "metadata": {
        "colab": {
          "base_uri": "https://localhost:8080/"
        },
        "id": "oWx5kxlfqnUk",
        "outputId": "006a73ca-534a-43c8-f548-9d72bb37e278"
      },
      "execution_count": null,
      "outputs": [
        {
          "output_type": "stream",
          "name": "stdout",
          "text": [
            "11\n"
          ]
        }
      ]
    },
    {
      "cell_type": "code",
      "source": [
        "#Ques-3 Write a code to slice the first 3 characters from the string \"python programming\"\n",
        "my_string = \"python programming\"\n",
        "sliced_string = my_string [:3]\n",
        "print(sliced_string)\n"
      ],
      "metadata": {
        "colab": {
          "base_uri": "https://localhost:8080/"
        },
        "id": "Z0387xsstI6K",
        "outputId": "f4ea38f8-2b74-4235-8653-d1cf804a52d0"
      },
      "execution_count": null,
      "outputs": [
        {
          "output_type": "stream",
          "name": "stdout",
          "text": [
            "pyt\n"
          ]
        }
      ]
    },
    {
      "cell_type": "code",
      "source": [
        "#Ques-4 write a code convert the string \"hello\" to uppercase\n",
        "string = \"hello\"\n",
        "str_upper = string.upper()\n",
        "print (str_upper)"
      ],
      "metadata": {
        "colab": {
          "base_uri": "https://localhost:8080/"
        },
        "id": "aifRoHkDygXL",
        "outputId": "f145b389-4a48-40c5-8f9d-103e980966ad"
      },
      "execution_count": null,
      "outputs": [
        {
          "output_type": "stream",
          "name": "stdout",
          "text": [
            "HELLO\n"
          ]
        }
      ]
    },
    {
      "cell_type": "code",
      "source": [
        "#Ques-5 Write a code to replace the word \"apple\" with \"orange\" in the string \"I like apple.\"\n",
        "x = \"I like apple\"\n",
        "str_replace= x.replace (  \"apple\" , \"orange\")\n",
        "print(str_replace)"
      ],
      "metadata": {
        "colab": {
          "base_uri": "https://localhost:8080/"
        },
        "id": "iNB8K-XTzVuv",
        "outputId": "afd77795-f402-485b-e754-dbbab9492751"
      },
      "execution_count": null,
      "outputs": [
        {
          "output_type": "stream",
          "name": "stdout",
          "text": [
            "I like orange\n"
          ]
        }
      ]
    },
    {
      "cell_type": "code",
      "source": [
        "#Ques-6 Write a code to convert a list with numbers 1 to 5 and print it.\n",
        "my_list = [1, 2, 3 ,4 ,5]\n",
        "print(my_list)\n"
      ],
      "metadata": {
        "colab": {
          "base_uri": "https://localhost:8080/"
        },
        "id": "zlpwbgWm0WZ-",
        "outputId": "3c33f1e8-f8a8-4709-ac77-a9e2bbb95207"
      },
      "execution_count": null,
      "outputs": [
        {
          "output_type": "stream",
          "name": "stdout",
          "text": [
            "[1, 2, 3, 4, 5]\n"
          ]
        }
      ]
    },
    {
      "cell_type": "code",
      "source": [
        "#Ques-7 Write a code to append the number 10 to the list [1,2,3,4]\n",
        "x= [1,2,3,4]\n",
        "x.append(10)\n",
        "print(x)"
      ],
      "metadata": {
        "colab": {
          "base_uri": "https://localhost:8080/"
        },
        "id": "CBmw2UAM0zt6",
        "outputId": "8b3b3efc-68d9-4c8a-b07f-b277902e5ae8"
      },
      "execution_count": null,
      "outputs": [
        {
          "output_type": "stream",
          "name": "stdout",
          "text": [
            "[1, 2, 3, 4, 10]\n"
          ]
        }
      ]
    },
    {
      "cell_type": "code",
      "source": [
        "#Ques-8 Write a code to remove the numbers 3 from the list [1,2,3,4,5]\n",
        "y=[1,2,3,4,5]\n",
        "y.remove(3)\n",
        "print(y)"
      ],
      "metadata": {
        "colab": {
          "base_uri": "https://localhost:8080/"
        },
        "id": "7JM6yHni1qZD",
        "outputId": "244c78de-0015-4811-eefe-c6b11e883455"
      },
      "execution_count": null,
      "outputs": [
        {
          "output_type": "stream",
          "name": "stdout",
          "text": [
            "[1, 2, 4, 5]\n"
          ]
        }
      ]
    },
    {
      "cell_type": "code",
      "source": [
        "#Ques-9 Write a code to access the second element in the list [ 'a', 'b', 'c', 'd']\n",
        "x= ['a', 'b', 'c', 'd']\n",
        "x_list = x[1]\n",
        "print(x_list)"
      ],
      "metadata": {
        "colab": {
          "base_uri": "https://localhost:8080/"
        },
        "id": "691RkufR2bFs",
        "outputId": "8607a5cb-2b80-481a-e331-dd12d00639b6"
      },
      "execution_count": null,
      "outputs": [
        {
          "output_type": "stream",
          "name": "stdout",
          "text": [
            "b\n"
          ]
        }
      ]
    },
    {
      "cell_type": "code",
      "source": [
        "#Ques-10 Write a code to reverse the list [10,20,30,40,50]\n",
        "x= [10, 20, 30, 40, 50]\n",
        "x.reverse()\n",
        "print(x)"
      ],
      "metadata": {
        "colab": {
          "base_uri": "https://localhost:8080/"
        },
        "id": "qi5OnMDi3PJ7",
        "outputId": "01c4145d-8149-4a5c-f095-e93c7e9a12c6"
      },
      "execution_count": null,
      "outputs": [
        {
          "output_type": "stream",
          "name": "stdout",
          "text": [
            "[50, 40, 30, 20, 10]\n"
          ]
        }
      ]
    },
    {
      "cell_type": "code",
      "source": [
        "#Ques-11 write a code to create a tuple with the elements 10,20,30 and print it.\n",
        "t= (10, 20, 30)\n",
        "print(t)\n"
      ],
      "metadata": {
        "colab": {
          "base_uri": "https://localhost:8080/"
        },
        "id": "ogNjJFJ159y1",
        "outputId": "4f2cd234-816d-483e-e93d-56fe289d3cb4"
      },
      "execution_count": 1,
      "outputs": [
        {
          "output_type": "stream",
          "name": "stdout",
          "text": [
            "(10, 20, 30)\n"
          ]
        }
      ]
    },
    {
      "cell_type": "code",
      "source": [
        "#Ques-12 Write a code to access the first element of the tuple ('apple', 'banana', 'cherry')\n",
        "my_tuple=('apple', 'banana', 'cherry')\n",
        "my_tuple[1]\n"
      ],
      "metadata": {
        "colab": {
          "base_uri": "https://localhost:8080/",
          "height": 36
        },
        "id": "yjRqOcU56uA6",
        "outputId": "493911ea-499a-46d1-888e-f4b4726025f5"
      },
      "execution_count": 2,
      "outputs": [
        {
          "output_type": "execute_result",
          "data": {
            "text/plain": [
              "'banana'"
            ],
            "application/vnd.google.colaboratory.intrinsic+json": {
              "type": "string"
            }
          },
          "metadata": {},
          "execution_count": 2
        }
      ]
    },
    {
      "cell_type": "code",
      "source": [
        "#Ques-13 Write a code to count how many times the number 2 appears in the tuple (1,2,3,2,4,2)\n",
        "t=(1,2,3,2,4,2)\n",
        "t.count(2)"
      ],
      "metadata": {
        "colab": {
          "base_uri": "https://localhost:8080/"
        },
        "id": "0HL6JGeF7wGE",
        "outputId": "7cd7bbe1-d64d-4563-949f-beecbde59efc"
      },
      "execution_count": 3,
      "outputs": [
        {
          "output_type": "execute_result",
          "data": {
            "text/plain": [
              "3"
            ]
          },
          "metadata": {},
          "execution_count": 3
        }
      ]
    },
    {
      "cell_type": "code",
      "source": [
        "#Ques-14 Write a code to find the index of the element \"cat\" in the tuple ('dog', 'cat', 'rabbit')\n",
        "t1= ('dog', 'cat', 'rabbit')\n",
        "index_cat= t1.index('cat')\n",
        "print(index_cat)"
      ],
      "metadata": {
        "colab": {
          "base_uri": "https://localhost:8080/"
        },
        "id": "_EniAPuS8WVH",
        "outputId": "e38017c1-98bf-4761-8819-49dba183f47c"
      },
      "execution_count": 5,
      "outputs": [
        {
          "output_type": "stream",
          "name": "stdout",
          "text": [
            "1\n"
          ]
        }
      ]
    },
    {
      "cell_type": "code",
      "source": [
        "#Ques-15 Write a code to check if the element \"banana\" is in the tuple ('apple', 'orange', 'banana').\n",
        "t2= ('apple', 'orange', 'banana')\n",
        "t3= \"banana\" in t2\n",
        "print(t3)"
      ],
      "metadata": {
        "colab": {
          "base_uri": "https://localhost:8080/"
        },
        "id": "TKjXqpVZ9kEi",
        "outputId": "55de081c-89da-46ff-c1a0-6155814f6a5f"
      },
      "execution_count": 6,
      "outputs": [
        {
          "output_type": "stream",
          "name": "stdout",
          "text": [
            "True\n"
          ]
        }
      ]
    },
    {
      "cell_type": "code",
      "source": [
        "#Ques-16 Write a code to create a set with the elements 1,2,3,4,5 and print it.\n",
        "s= {\"1\", \"2\", \"3\", \"4\", \"5\"}\n",
        "s"
      ],
      "metadata": {
        "colab": {
          "base_uri": "https://localhost:8080/"
        },
        "id": "WZy7Y3v--Yx5",
        "outputId": "b59340dc-08c5-4339-de9b-d04367dfbdc7"
      },
      "execution_count": 7,
      "outputs": [
        {
          "output_type": "execute_result",
          "data": {
            "text/plain": [
              "{'1', '2', '3', '4', '5'}"
            ]
          },
          "metadata": {},
          "execution_count": 7
        }
      ]
    },
    {
      "cell_type": "code",
      "source": [],
      "metadata": {
        "id": "6ty-ek2OA9D8"
      },
      "execution_count": null,
      "outputs": []
    },
    {
      "cell_type": "code",
      "source": [
        "#Ques-17 Write a code to add the element 6 to the set {1,2,3,5}\n",
        "s1= {1, 2, 3, 4}\n",
        "s1.add(6)\n",
        "s1"
      ],
      "metadata": {
        "colab": {
          "base_uri": "https://localhost:8080/"
        },
        "id": "W-CRiTXJ_DVi",
        "outputId": "bb00a5aa-231b-49a8-af8b-e19198f0010c"
      },
      "execution_count": 8,
      "outputs": [
        {
          "output_type": "execute_result",
          "data": {
            "text/plain": [
              "{1, 2, 3, 4, 6}"
            ]
          },
          "metadata": {},
          "execution_count": 8
        }
      ]
    },
    {
      "cell_type": "code",
      "source": [
        "#Ques-18 Write a code to create a tuple with the element 10, 20, 30 and print it.\n",
        "my_tuple= (10, 20, 30, 40)\n",
        "my_tuple"
      ],
      "metadata": {
        "colab": {
          "base_uri": "https://localhost:8080/"
        },
        "id": "K_HXFCMT_tHM",
        "outputId": "572a00a0-ccb4-40fa-c46d-d73ecf8a3d64"
      },
      "execution_count": 9,
      "outputs": [
        {
          "output_type": "execute_result",
          "data": {
            "text/plain": [
              "(10, 20, 30, 40)"
            ]
          },
          "metadata": {},
          "execution_count": 9
        }
      ]
    },
    {
      "cell_type": "code",
      "source": [
        "#Ques-19 Write a code to access the first element of the tuple ('apple', 'banana', 'cherry')\n",
        "my_tuple=('apple', 'banana', 'cherry')\n",
        "my_tuple[1]\n"
      ],
      "metadata": {
        "colab": {
          "base_uri": "https://localhost:8080/",
          "height": 36
        },
        "id": "_qr9zZrbALur",
        "outputId": "6b06b5da-2c18-40c4-f8e1-ff9a23065104"
      },
      "execution_count": 10,
      "outputs": [
        {
          "output_type": "execute_result",
          "data": {
            "text/plain": [
              "'banana'"
            ],
            "application/vnd.google.colaboratory.intrinsic+json": {
              "type": "string"
            }
          },
          "metadata": {},
          "execution_count": 10
        }
      ]
    },
    {
      "cell_type": "code",
      "source": [
        "#Ques-20 Write a code to count how many times the number 2 appears in the tuple (1,2,3,2,4,2)\n",
        "t=(1,2,3,2,4,2)\n",
        "t.count(2)"
      ],
      "metadata": {
        "colab": {
          "base_uri": "https://localhost:8080/"
        },
        "id": "AcTgQDGoAxM6",
        "outputId": "e952fe01-6698-4e00-d545-83ecfe0e3a94"
      },
      "execution_count": 12,
      "outputs": [
        {
          "output_type": "execute_result",
          "data": {
            "text/plain": [
              "3"
            ]
          },
          "metadata": {},
          "execution_count": 12
        }
      ]
    },
    {
      "cell_type": "code",
      "source": [
        "#Ques-21 Write a code to find the index of the element \"cat\" in the tuple ('dog', 'cat', 'rabbit')\n",
        "t1= ('dog', 'cat', 'rabbit')\n",
        "index_cat= t1.index('cat')\n",
        "print(index_cat)"
      ],
      "metadata": {
        "colab": {
          "base_uri": "https://localhost:8080/"
        },
        "id": "XfUIltMCBAHE",
        "outputId": "6064adca-1613-4a63-b5fe-f762a96fcc89"
      },
      "execution_count": 11,
      "outputs": [
        {
          "output_type": "stream",
          "name": "stdout",
          "text": [
            "1\n"
          ]
        }
      ]
    },
    {
      "cell_type": "code",
      "source": [
        "#Ques-22 Write a code to check if the element \"banana\" is in the tuple ('apple', 'orange', 'banana').\n",
        "t2= ('apple', 'orange', 'banana')\n",
        "t3= \"banana\" in t2\n",
        "print(t3)"
      ],
      "metadata": {
        "colab": {
          "base_uri": "https://localhost:8080/"
        },
        "id": "3htiCVioBCyn",
        "outputId": "4e7a24fe-cc33-4494-ee07-276cefddf40d"
      },
      "execution_count": 13,
      "outputs": [
        {
          "output_type": "stream",
          "name": "stdout",
          "text": [
            "True\n"
          ]
        }
      ]
    },
    {
      "cell_type": "code",
      "source": [
        "#Ques-23 Write a code to create a set with the elements 1,2,3,4,5 and print it.\n",
        "s= {\"1\", \"2\", \"3\", \"4\", \"5\"}\n",
        "s"
      ],
      "metadata": {
        "colab": {
          "base_uri": "https://localhost:8080/"
        },
        "id": "qWBqgpGGBX5I",
        "outputId": "30ae28bf-e00e-4ec3-e075-7b2031383e02"
      },
      "execution_count": 14,
      "outputs": [
        {
          "output_type": "execute_result",
          "data": {
            "text/plain": [
              "{'1', '2', '3', '4', '5'}"
            ]
          },
          "metadata": {},
          "execution_count": 14
        }
      ]
    },
    {
      "cell_type": "code",
      "source": [
        "#Ques-24 Write a code to add the element 6 to the set {1,2,3,5}\n",
        "s1= {1, 2, 3, 4}\n",
        "s1.add(6)\n",
        "s1"
      ],
      "metadata": {
        "colab": {
          "base_uri": "https://localhost:8080/"
        },
        "id": "jxv9krqWBjt5",
        "outputId": "be10ae9d-dfbb-4410-da8f-572588428020"
      },
      "execution_count": 15,
      "outputs": [
        {
          "output_type": "execute_result",
          "data": {
            "text/plain": [
              "{1, 2, 3, 4, 6}"
            ]
          },
          "metadata": {},
          "execution_count": 15
        }
      ]
    }
  ]
}